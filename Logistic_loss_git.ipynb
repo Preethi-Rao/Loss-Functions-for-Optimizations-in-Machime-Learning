{
 "cells": [
  {
   "cell_type": "code",
   "execution_count": 1,
   "metadata": {},
   "outputs": [
    {
     "name": "stdout",
     "output_type": "stream",
     "text": [
      "Loss function : 110.47703621322823  Gradient:   [17.81128605 20.54966014 21.4864969  22.19608981 18.90657577 17.49437028\n",
      " 18.44808682 18.06794408 20.8760964  17.37146671]\n",
      "grad 2 [17.81128604 20.54966014 21.48649691 22.19608981 18.90657576 17.49437028\n",
      " 18.44808682 18.06794409 20.8760964  17.37146671]\n"
     ]
    }
   ],
   "source": [
    "#LOGISTIC LOSS\n",
    "import numpy as np\n",
    "from numpy import linalg as la\n",
    "n=100\n",
    "m=10\n",
    "#lam=np.random.randint(5)\n",
    "lam=1\n",
    "x=np.random.rand(m,n)\n",
    "y=np.random.randint(2,size=(n,1))\n",
    "#w=np.random.rand(m,1)\n",
    "y=np.where(y==0,-1,y)\n",
    "w=np.random.rand(m,1)\n",
    "f=0\n",
    "h=0\n",
    "def LogisticLossFun(x,y,w,lam):\n",
    "    f=0\n",
    "    g=0\n",
    "    h=0\n",
    "    \n",
    "    for i,j in zip(y,x.T):\n",
    "    #print(i@w.T@j.T)\n",
    "        if((i@w.T@(j.T)>0)):\n",
    "            f+=np.log(1+np.exp(-(i@w.T@(j.T))))#+lam*(la.norm(w)**2)\n",
    "            g+= -(i)*(j.T)*1/(1+np.exp(i@w.T@j.T))#+lam*2*w\n",
    "        else:\n",
    "            f+=np.log(1+np.exp(i@w.T@j.T))-(i@w.T@j.T)#+lam*(la.norm(w)**2)\n",
    "            g+= -(i)*(j.T)*1/(1+np.exp(i@w.T@j.T))#+lam*2*w\n",
    "        #h+=(i*j)\n",
    "    \n",
    "    return[f,g]\n",
    "print(\"Loss function :\", LogisticLossFun(x,y,w,1)[0], \" Gradient:  \",LogisticLossFun(x,y,w,1)[1])\n",
    "\n",
    "funObj = lambda w: LogisticLossFun(x,y,w,1)[0]\n",
    "funObj(w)\n",
    "\n",
    "def numericalGrad (funObj,w,epsilon) :\n",
    "    m =len(w)\n",
    "    grad = np . zeros(m)\n",
    "    for i in range (m) :\n",
    "        wp = np . copy (w)\n",
    "        wn = np . copy (w)\n",
    "        wp[i] = w[i]+epsilon\n",
    "        wn[i] = w[i]-epsilon\n",
    "        grad [i] = (funObj(wp) - funObj(wn) ) / (2*epsilon)\n",
    "    return grad\n",
    "print(\"grad 2\",numericalGrad(funObj,w,0.000009))"
   ]
  },
  {
   "cell_type": "code",
   "execution_count": null,
   "metadata": {},
   "outputs": [],
   "source": []
  }
 ],
 "metadata": {
  "kernelspec": {
   "display_name": "Python 3",
   "language": "python",
   "name": "python3"
  },
  "language_info": {
   "codemirror_mode": {
    "name": "ipython",
    "version": 3
   },
   "file_extension": ".py",
   "mimetype": "text/x-python",
   "name": "python",
   "nbconvert_exporter": "python",
   "pygments_lexer": "ipython3",
   "version": "3.7.3"
  }
 },
 "nbformat": 4,
 "nbformat_minor": 2
}
