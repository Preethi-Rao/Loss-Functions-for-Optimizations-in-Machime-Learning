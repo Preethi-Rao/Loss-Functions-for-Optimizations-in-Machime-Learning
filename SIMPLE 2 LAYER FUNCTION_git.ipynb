{
 "cells": [
  {
   "cell_type": "code",
   "execution_count": 1,
   "metadata": {},
   "outputs": [
    {
     "name": "stdout",
     "output_type": "stream",
     "text": [
      "(10, 100)\n",
      "Loss function : [1069.89211022]  Gradient:   [335.05312592 314.6619582  286.47636439 326.07646309 322.33784587\n",
      " 309.43373354 326.21842073 346.01111637 318.58230995 282.45808321]\n",
      "grad 2 [335.05312589 314.66195816 286.47636438 326.07646311 322.33784586\n",
      " 309.4337335  326.21842072 346.01111639 318.58230993 282.45808321]\n"
     ]
    }
   ],
   "source": [
    "#SIMPLE 2 LAYER FUNCTION\n",
    "import numpy as np\n",
    "from numpy import linalg as la\n",
    "n=100\n",
    "m=10\n",
    "#lam=np.random.randint(5)\n",
    "lam=1\n",
    "x=np.random.rand(m,n)\n",
    "print(x.shape)\n",
    "y=np.random.randint(2,size=(n,1))\n",
    "#w=np.random.rand(m,1)\n",
    "y=np.where(y==0,-1,y)\n",
    "w=np.random.rand(m,1)\n",
    "f=0\n",
    "h=0\n",
    "def Simple2LayerFun(x,y,w,lam):\n",
    "    f=0\n",
    "    g=0\n",
    "    h=0\n",
    "    for i,j in zip(y,x.T):\n",
    "    #print(i@w.T@j.T)\n",
    "        if((w.T@(j.T))>0):\n",
    "            f+=(i-(w.T@(j.T)))**2#+(lam*(la.norm(w)**2))\n",
    "            g+= (-(2)*(j.T))*(i-(w.T@(j.T)))#+(lam*2*w)\n",
    "        else:\n",
    "            f+=i**2#+(lam*(la.norm(w)**2))\n",
    "            g+=0\n",
    "        #h+=(i*j)\n",
    "    #print(\"grad1\",g.reshape(-1,1))\n",
    "    return[f,g]\n",
    "print(\"Loss function :\", Simple2LayerFun(x,y,w,1)[0], \" Gradient:  \",Simple2LayerFun(x,y,w,1)[1])\n",
    "\n",
    "funObj = lambda w: Simple2LayerFun(x,y,w,1)[0]\n",
    "funObj(w)\n",
    "\n",
    "def numericalGrad (funObj,w,epsilon) :\n",
    "    m =len(w)\n",
    "    grad = np . zeros(m)\n",
    "    for i in range (m) :\n",
    "        wp = np . copy (w)\n",
    "        wn = np . copy (w)\n",
    "        wp[i] = w[i]+epsilon\n",
    "        wn[i] = w[i]-epsilon\n",
    "        grad [i] = (funObj(wp) - funObj(wn) ) / (2*epsilon)\n",
    "    return grad\n",
    "g2=numericalGrad(funObj,w,0.000009)\n",
    "print(\"grad 2\",g2)"
   ]
  },
  {
   "cell_type": "code",
   "execution_count": null,
   "metadata": {},
   "outputs": [],
   "source": []
  }
 ],
 "metadata": {
  "kernelspec": {
   "display_name": "Python 3",
   "language": "python",
   "name": "python3"
  },
  "language_info": {
   "codemirror_mode": {
    "name": "ipython",
    "version": 3
   },
   "file_extension": ".py",
   "mimetype": "text/x-python",
   "name": "python",
   "nbconvert_exporter": "python",
   "pygments_lexer": "ipython3",
   "version": "3.7.3"
  }
 },
 "nbformat": 4,
 "nbformat_minor": 2
}
